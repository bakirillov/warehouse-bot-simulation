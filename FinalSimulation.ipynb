{
 "cells": [
  {
   "cell_type": "code",
   "execution_count": 1,
   "metadata": {},
   "outputs": [],
   "source": [
    "import numpy as np\n",
    "import pandas as pd\n",
    "import matplotlib.pyplot as plt"
   ]
  },
  {
   "cell_type": "code",
   "execution_count": 2,
   "metadata": {},
   "outputs": [],
   "source": [
    "np.random.seed(1)"
   ]
  },
  {
   "cell_type": "code",
   "execution_count": 36,
   "metadata": {},
   "outputs": [
    {
     "data": {
      "text/plain": [
       "33.333333333333336"
      ]
     },
     "execution_count": 36,
     "metadata": {},
     "output_type": "execute_result"
    }
   ],
   "source": [
    "50/1.5"
   ]
  },
  {
   "cell_type": "code",
   "execution_count": 3,
   "metadata": {},
   "outputs": [],
   "source": [
    "def drone_traverse(N_boxes, t_scan=8, t_move=1):\n",
    "    t_total = t_move\n",
    "    #up\n",
    "    for a in range(N_boxes):\n",
    "        t_total += t_scan + t_move\n",
    "    #down\n",
    "    for a in range(N_boxes):\n",
    "        t_total += t_move\n",
    "    return(t_total)"
   ]
  },
  {
   "cell_type": "code",
   "execution_count": 4,
   "metadata": {},
   "outputs": [],
   "source": [
    "def get_time_mp(mean_normal, mean_far, p_far):\n",
    "    far = np.random.choice([True, False], p=[p_far, 1-p_far])\n",
    "    if far:\n",
    "        return(np.random.poisson(mean_far))\n",
    "    else:\n",
    "        return(np.random.poisson(mean_normal))"
   ]
  },
  {
   "cell_type": "code",
   "execution_count": 5,
   "metadata": {},
   "outputs": [],
   "source": [
    "def mp_traverse(\n",
    "    N, N_pellets=8, t_mp_work=8*3600, t_mp_charge=3.5*3600, \n",
    "    t_drone_work=15*60, t_drone_charge=15*60, t_scan=8, t_drone_move=1, t_mp_move=1,\n",
    "    mean_normal=2, mean_far=60, p_far=0.05\n",
    "):\n",
    "    p_N = 0\n",
    "    t_total = 0\n",
    "    t_drone_flight = 0\n",
    "    t_mp_action = 0\n",
    "    while p_N < N:\n",
    "        t_drone = drone_traverse(N_pellets, t_scan, t_drone_move)\n",
    "        t_drone_flight += t_drone\n",
    "        if t_drone_flight >= t_drone_work:\n",
    "            t_drone_flight = 0\n",
    "            t_drone += t_drone_charge\n",
    "        t_mp_move_r = get_time_mp(mean_normal, mean_far, p_far)+t_mp_move\n",
    "        t_mp_action += t_drone + t_mp_move_r\n",
    "        if t_mp_action >= t_mp_work:\n",
    "            t_mp_action = 0\n",
    "            t_drone += t_mp_charge\n",
    "        t_total += t_drone + t_mp_move_r\n",
    "        p_N += N_pellets\n",
    "    return(t_total, p_N)"
   ]
  },
  {
   "cell_type": "markdown",
   "metadata": {},
   "source": [
    "### Single mobile platform, single drone"
   ]
  },
  {
   "cell_type": "code",
   "execution_count": 6,
   "metadata": {},
   "outputs": [],
   "source": [
    "smsd_times = np.stack(\n",
    "    [mp_traverse(20000)[0] for a in np.arange(1000)]\n",
    ")"
   ]
  },
  {
   "cell_type": "code",
   "execution_count": 7,
   "metadata": {},
   "outputs": [
    {
     "data": {
      "text/plain": [
       "(157.8505488888889, 0.177633488195202)"
      ]
     },
     "execution_count": 7,
     "metadata": {},
     "output_type": "execute_result"
    }
   ],
   "source": [
    "np.mean(smsd_times/3600), np.std(smsd_times/3600)"
   ]
  },
  {
   "cell_type": "code",
   "execution_count": 8,
   "metadata": {},
   "outputs": [
    {
     "data": {
      "image/png": "[encoded data removed]",
      "text/plain": [
       "<Figure size 432x288 with 1 Axes>"
      ]
     },
     "metadata": {
      "needs_background": "light"
     },
     "output_type": "display_data"
    }
   ],
   "source": [
    "plt.hist(smsd_times/3600, bins=100)\n",
    "plt.show()"
   ]
  },
  {
   "cell_type": "markdown",
   "metadata": {},
   "source": [
    "### Single mobile platform, two drones"
   ]
  },
  {
   "cell_type": "code",
   "execution_count": 9,
   "metadata": {},
   "outputs": [],
   "source": [
    "smtd_times = np.stack(\n",
    "    [mp_traverse(20000, t_drone_charge=0)[0] for a in np.arange(1000)]\n",
    ")"
   ]
  },
  {
   "cell_type": "code",
   "execution_count": 10,
   "metadata": {},
   "outputs": [
    {
     "data": {
      "text/plain": [
       "(84.84951138888887, 0.17558230169830852)"
      ]
     },
     "execution_count": 10,
     "metadata": {},
     "output_type": "execute_result"
    }
   ],
   "source": [
    "np.mean(smtd_times/3600), np.std(smtd_times/3600)"
   ]
  },
  {
   "cell_type": "code",
   "execution_count": 11,
   "metadata": {},
   "outputs": [
    {
     "data": {
      "image/png": "[encoded data removed]",
      "text/plain": [
       "<Figure size 432x288 with 1 Axes>"
      ]
     },
     "metadata": {
      "needs_background": "light"
     },
     "output_type": "display_data"
    }
   ],
   "source": [
    "plt.hist(smtd_times/3600, bins=100)\n",
    "plt.show()"
   ]
  },
  {
   "cell_type": "markdown",
   "metadata": {},
   "source": [
    "### Single mobile platform, four drones"
   ]
  },
  {
   "cell_type": "code",
   "execution_count": 12,
   "metadata": {},
   "outputs": [],
   "source": [
    "smfd_times = np.stack(\n",
    "    [mp_traverse(20000, N_pellets=16, t_drone_charge=0)[0] for a in np.arange(1000)]\n",
    ")"
   ]
  },
  {
   "cell_type": "code",
   "execution_count": 13,
   "metadata": {},
   "outputs": [
    {
     "data": {
      "text/plain": [
       "(82.45394416666669, 0.1262155647326711)"
      ]
     },
     "execution_count": 13,
     "metadata": {},
     "output_type": "execute_result"
    }
   ],
   "source": [
    "np.mean(smfd_times/3600), np.std(smfd_times/3600)"
   ]
  },
  {
   "cell_type": "code",
   "execution_count": 14,
   "metadata": {
    "scrolled": true
   },
   "outputs": [
    {
     "data": {
      "image/png": "[encoded data removed]",
      "text/plain": [
       "<Figure size 432x288 with 1 Axes>"
      ]
     },
     "metadata": {
      "needs_background": "light"
     },
     "output_type": "display_data"
    }
   ],
   "source": [
    "plt.hist(smtd_times/3600, bins=100)\n",
    "plt.show()"
   ]
  },
  {
   "cell_type": "markdown",
   "metadata": {},
   "source": [
    "### Two mobile platforms, one drone each"
   ]
  },
  {
   "cell_type": "code",
   "execution_count": 15,
   "metadata": {},
   "outputs": [],
   "source": [
    "tmsd_times = np.stack(\n",
    "    [mp_traverse(10000)[0] for a in np.arange(1000)]\n",
    ")"
   ]
  },
  {
   "cell_type": "code",
   "execution_count": 16,
   "metadata": {},
   "outputs": [
    {
     "data": {
      "text/plain": [
       "(77.176395, 0.17185171694508974)"
      ]
     },
     "execution_count": 16,
     "metadata": {},
     "output_type": "execute_result"
    }
   ],
   "source": [
    "np.mean(tmsd_times/3600), np.std(tmsd_times/3600)"
   ]
  },
  {
   "cell_type": "code",
   "execution_count": 17,
   "metadata": {},
   "outputs": [
    {
     "data": {
      "image/png": "[encoded data removed]",
      "text/plain": [
       "<Figure size 432x288 with 1 Axes>"
      ]
     },
     "metadata": {
      "needs_background": "light"
     },
     "output_type": "display_data"
    }
   ],
   "source": [
    "plt.hist(tmsd_times/3600, bins=100)\n",
    "plt.show()"
   ]
  },
  {
   "cell_type": "markdown",
   "metadata": {},
   "source": [
    "### Two mobile platforms, two drones each"
   ]
  },
  {
   "cell_type": "code",
   "execution_count": 18,
   "metadata": {},
   "outputs": [],
   "source": [
    "tmtd_times = np.stack(\n",
    "    [mp_traverse(10000, t_drone_charge=0)[0] for a in np.arange(1000)]\n",
    ")"
   ]
  },
  {
   "cell_type": "code",
   "execution_count": 19,
   "metadata": {},
   "outputs": [
    {
     "data": {
      "text/plain": [
       "(40.68767, 0.12830961645205735)"
      ]
     },
     "execution_count": 19,
     "metadata": {},
     "output_type": "execute_result"
    }
   ],
   "source": [
    "np.mean(tmtd_times/3600), np.std(tmtd_times/3600)"
   ]
  },
  {
   "cell_type": "code",
   "execution_count": 20,
   "metadata": {},
   "outputs": [
    {
     "data": {
      "image/png": "[encoded data removed]",
      "text/plain": [
       "<Figure size 432x288 with 1 Axes>"
      ]
     },
     "metadata": {
      "needs_background": "light"
     },
     "output_type": "display_data"
    }
   ],
   "source": [
    "plt.hist(tmtd_times/3600, bins=100)\n",
    "plt.show()"
   ]
  },
  {
   "cell_type": "markdown",
   "metadata": {},
   "source": [
    "### Two mobile platforms, four drones each"
   ]
  },
  {
   "cell_type": "code",
   "execution_count": 21,
   "metadata": {},
   "outputs": [],
   "source": [
    "tmfd_times = np.stack(\n",
    "    [\n",
    "        mp_traverse(10000, t_drone_charge=0, N_pellets=16)[0] for a in np.arange(1000)\n",
    "    ]\n",
    ")"
   ]
  },
  {
   "cell_type": "code",
   "execution_count": 22,
   "metadata": {},
   "outputs": [
    {
     "data": {
      "text/plain": [
       "(39.474608888888895, 0.08782999920581704)"
      ]
     },
     "execution_count": 22,
     "metadata": {},
     "output_type": "execute_result"
    }
   ],
   "source": [
    "np.mean(tmfd_times/3600), np.std(tmfd_times/3600)"
   ]
  },
  {
   "cell_type": "code",
   "execution_count": 23,
   "metadata": {},
   "outputs": [
    {
     "data": {
      "image/png": "[encoded data removed]",
      "text/plain": [
       "<Figure size 432x288 with 1 Axes>"
      ]
     },
     "metadata": {
      "needs_background": "light"
     },
     "output_type": "display_data"
    }
   ],
   "source": [
    "plt.hist(tmfd_times/3600, bins=100)\n",
    "plt.show()"
   ]
  },
  {
   "cell_type": "markdown",
   "metadata": {},
   "source": [
    "### Four mobile platforms, one drone each"
   ]
  },
  {
   "cell_type": "code",
   "execution_count": 24,
   "metadata": {},
   "outputs": [],
   "source": [
    "fmsd_times = np.stack(\n",
    "    [\n",
    "        mp_traverse(5000)[0] for a in np.arange(1000)\n",
    "    ]\n",
    ")"
   ]
  },
  {
   "cell_type": "code",
   "execution_count": 25,
   "metadata": {},
   "outputs": [
    {
     "data": {
      "text/plain": [
       "(38.58542583333333, 0.08927378254171585)"
      ]
     },
     "execution_count": 25,
     "metadata": {},
     "output_type": "execute_result"
    }
   ],
   "source": [
    "np.mean(fmsd_times/3600), np.std(fmsd_times/3600)"
   ]
  },
  {
   "cell_type": "code",
   "execution_count": 26,
   "metadata": {},
   "outputs": [
    {
     "data": {
      "image/png": "[encoded data removed]",
      "text/plain": [
       "<Figure size 432x288 with 1 Axes>"
      ]
     },
     "metadata": {
      "needs_background": "light"
     },
     "output_type": "display_data"
    }
   ],
   "source": [
    "plt.hist(fmsd_times/3600, bins=100)\n",
    "plt.show()"
   ]
  },
  {
   "cell_type": "markdown",
   "metadata": {},
   "source": [
    "### Four mobile platforms, two drones each"
   ]
  },
  {
   "cell_type": "code",
   "execution_count": 27,
   "metadata": {},
   "outputs": [],
   "source": [
    "fmtd_times = np.stack(\n",
    "    [\n",
    "        mp_traverse(5000, t_drone_charge=0)[0] for a in np.arange(1000)\n",
    "    ]\n",
    ")"
   ]
  },
  {
   "cell_type": "code",
   "execution_count": 28,
   "metadata": {},
   "outputs": [
    {
     "data": {
      "text/plain": [
       "(18.585180833333332, 0.08542181068476355)"
      ]
     },
     "execution_count": 28,
     "metadata": {},
     "output_type": "execute_result"
    }
   ],
   "source": [
    "np.mean(fmtd_times/3600), np.std(fmtd_times/3600)"
   ]
  },
  {
   "cell_type": "code",
   "execution_count": 29,
   "metadata": {},
   "outputs": [
    {
     "data": {
      "image/png": "[encoded data removed]",
      "text/plain": [
       "<Figure size 432x288 with 1 Axes>"
      ]
     },
     "metadata": {
      "needs_background": "light"
     },
     "output_type": "display_data"
    }
   ],
   "source": [
    "plt.hist(fmtd_times/3600, bins=100)\n",
    "plt.show()"
   ]
  },
  {
   "cell_type": "markdown",
   "metadata": {},
   "source": [
    "### Four mobile platforms, four drones each"
   ]
  },
  {
   "cell_type": "code",
   "execution_count": 30,
   "metadata": {},
   "outputs": [],
   "source": [
    "fmfd_times = np.stack(\n",
    "    [\n",
    "        mp_traverse(5000, N_pellets=16, t_drone_charge=0)[0] for a in np.arange(1000)\n",
    "    ]\n",
    ")"
   ]
  },
  {
   "cell_type": "code",
   "execution_count": 31,
   "metadata": {},
   "outputs": [
    {
     "data": {
      "text/plain": [
       "(18.01021916666667, 0.0626612035142062)"
      ]
     },
     "execution_count": 31,
     "metadata": {},
     "output_type": "execute_result"
    }
   ],
   "source": [
    "np.mean(fmfd_times/3600), np.std(fmfd_times/3600)"
   ]
  },
  {
   "cell_type": "code",
   "execution_count": 32,
   "metadata": {},
   "outputs": [
    {
     "data": {
      "image/png": "[encoded data removed]",
      "text/plain": [
       "<Figure size 432x288 with 1 Axes>"
      ]
     },
     "metadata": {
      "needs_background": "light"
     },
     "output_type": "display_data"
    }
   ],
   "source": [
    "plt.hist(fmfd_times/3600, bins=100)\n",
    "plt.show()"
   ]
  },
  {
   "cell_type": "markdown",
   "metadata": {},
   "source": [
    "## Summary"
   ]
  },
  {
   "cell_type": "code",
   "execution_count": 33,
   "metadata": {},
   "outputs": [],
   "source": [
    "def rnd(x):\n",
    "    return(np.round(x, 2))"
   ]
  },
  {
   "cell_type": "code",
   "execution_count": 34,
   "metadata": {},
   "outputs": [],
   "source": [
    "summary = pd.DataFrame(\n",
    "    {\n",
    "        \"Single MP\": [\n",
    "            (rnd(np.mean(smsd_times/3600)), rnd(np.std(smsd_times/3600))), \n",
    "            (rnd(np.mean(smtd_times/3600)), rnd(np.std(smtd_times/3600))), \n",
    "            (rnd(np.mean(smfd_times/3600)), rnd(np.std(smfd_times/3600)))\n",
    "        ], \n",
    "        \"Two MPs\": [\n",
    "            (rnd(np.mean(tmsd_times/3600)), rnd(np.std(tmsd_times/3600))),\n",
    "            (rnd(np.mean(tmtd_times/3600)), rnd(np.std(tmtd_times/3600))),\n",
    "            (rnd(np.mean(tmfd_times/3600)), rnd(np.std(tmfd_times/3600))),\n",
    "        ], \n",
    "        \"Four MPs\": [\n",
    "            (rnd(np.mean(fmsd_times/3600)), rnd(np.std(fmsd_times/3600))),\n",
    "            (rnd(np.mean(fmtd_times/3600)), rnd(np.std(fmtd_times/3600))),\n",
    "            (rnd(np.mean(fmfd_times/3600)), rnd(np.std(fmfd_times/3600))),\n",
    "        ], \n",
    "    }\n",
    ")\n",
    "summary.index = [\"Single drone\", \"Two drones\", \"Four drones\"]"
   ]
  },
  {
   "cell_type": "code",
   "execution_count": 35,
   "metadata": {},
   "outputs": [
    {
     "data": {
      "text/html": [
       "<div>\n",
       "<style scoped>\n",
       "    .dataframe tbody tr th:only-of-type {\n",
       "        vertical-align: middle;\n",
       "    }\n",
       "\n",
       "    .dataframe tbody tr th {\n",
       "        vertical-align: top;\n",
       "    }\n",
       "\n",
       "    .dataframe thead th {\n",
       "        text-align: right;\n",
       "    }\n",
       "</style>\n",
       "<table border=\"1\" class=\"dataframe\">\n",
       "  <thead>\n",
       "    <tr style=\"text-align: right;\">\n",
       "      <th></th>\n",
       "      <th>Single MP</th>\n",
       "      <th>Two MPs</th>\n",
       "      <th>Four MPs</th>\n",
       "    </tr>\n",
       "  </thead>\n",
       "  <tbody>\n",
       "    <tr>\n",
       "      <th>Single drone</th>\n",
       "      <td>(157.85, 0.18)</td>\n",
       "      <td>(77.18, 0.17)</td>\n",
       "      <td>(38.59, 0.09)</td>\n",
       "    </tr>\n",
       "    <tr>\n",
       "      <th>Two drones</th>\n",
       "      <td>(84.85, 0.18)</td>\n",
       "      <td>(40.69, 0.13)</td>\n",
       "      <td>(18.59, 0.09)</td>\n",
       "    </tr>\n",
       "    <tr>\n",
       "      <th>Four drones</th>\n",
       "      <td>(82.45, 0.13)</td>\n",
       "      <td>(39.47, 0.09)</td>\n",
       "      <td>(18.01, 0.06)</td>\n",
       "    </tr>\n",
       "  </tbody>\n",
       "</table>\n",
       "</div>"
      ],
      "text/plain": [
       "                   Single MP        Two MPs       Four MPs\n",
       "Single drone  (157.85, 0.18)  (77.18, 0.17)  (38.59, 0.09)\n",
       "Two drones     (84.85, 0.18)  (40.69, 0.13)  (18.59, 0.09)\n",
       "Four drones    (82.45, 0.13)  (39.47, 0.09)  (18.01, 0.06)"
      ]
     },
     "execution_count": 35,
     "metadata": {},
     "output_type": "execute_result"
    }
   ],
   "source": [
    "summary"
   ]
  }
 ],
 "metadata": {
  "kernelspec": {
   "display_name": "Python 3",
   "language": "python",
   "name": "python3"
  },
  "language_info": {
   "codemirror_mode": {
    "name": "ipython",
    "version": 3
   },
   "file_extension": ".py",
   "mimetype": "text/x-python",
   "name": "python",
   "nbconvert_exporter": "python",
   "pygments_lexer": "ipython3",
   "version": "3.7.5"
  }
 },
 "nbformat": 4,
 "nbformat_minor": 2
}
