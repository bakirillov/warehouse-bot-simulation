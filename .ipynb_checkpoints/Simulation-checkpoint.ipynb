{
 "cells": [
  {
   "cell_type": "code",
   "execution_count": 1,
   "metadata": {},
   "outputs": [
    {
     "name": "stdout",
     "output_type": "stream",
     "text": [
      "pygame 1.9.6\n",
      "Hello from the pygame community. https://www.pygame.org/contribute.html\n"
     ]
    }
   ],
   "source": [
    "import numpy as np\n",
    "import pickle as pkl\n",
    "from moviepy.editor import *\n",
    "import matplotlib.pyplot as plt"
   ]
  },
  {
   "cell_type": "markdown",
   "metadata": {},
   "source": [
    "# Environment definition"
   ]
  },
  {
   "cell_type": "code",
   "execution_count": 70,
   "metadata": {},
   "outputs": [],
   "source": [
    "class Warehouse():\n",
    "    \n",
    "    def __init__(self, layout):\n",
    "        self.layout = np.array(layout)\n",
    "        \n",
    "    def cross_out_pellet(self, x, y):\n",
    "        self.layout[x,y] = 2\n",
    "        \n",
    "    def field_of_vision(self, x, y):\n",
    "        x_min = x-1 if x >= 1 else 0\n",
    "        y_min = y-1 if y >= 1 else 0\n",
    "        x_max = x+1 if x <= self.layout.shape[0]-1 else self.layout.shape[0]-1\n",
    "        y_max = y+1 if y <= self.layout.shape[1]-1 else self.layout.shape[1]-1\n",
    "        return(self.layout[x_min:x_max, y_min:y_max])"
   ]
  },
  {
   "cell_type": "code",
   "execution_count": 71,
   "metadata": {},
   "outputs": [],
   "source": [
    "test_warehouse = Warehouse(\n",
    "    [[0,1,1,1,0], [1,0,0,0,1], [1,0,0,0,1], [1,0,0,0,1], [1,0,0,0,1]]\n",
    ")"
   ]
  },
  {
   "cell_type": "code",
   "execution_count": 72,
   "metadata": {},
   "outputs": [
    {
     "data": {
      "text/plain": [
       "<matplotlib.image.AxesImage at 0x7fb75b7d7090>"
      ]
     },
     "execution_count": 72,
     "metadata": {},
     "output_type": "execute_result"
    },
    {
     "data": {
      "image/png": "[encoded data removed]",
      "text/plain": [
       "<Figure size 432x288 with 1 Axes>"
      ]
     },
     "metadata": {
      "needs_background": "light"
     },
     "output_type": "display_data"
    }
   ],
   "source": [
    "plt.imshow(test_warehouse.layout)"
   ]
  },
  {
   "cell_type": "markdown",
   "metadata": {},
   "source": [
    "# Agents definition"
   ]
  },
  {
   "cell_type": "markdown",
   "metadata": {},
   "source": [
    "## Drone"
   ]
  },
  {
   "cell_type": "code",
   "execution_count": 34,
   "metadata": {},
   "outputs": [],
   "source": [
    "def add_to_path(func):\n",
    "    def wrapper(*args, **kwargs):\n",
    "        func(*args, **kwargs)\n",
    "        args[0].path.append((args[0].state, args[0].z))\n",
    "    return(wrapper)\n",
    "\n",
    "\n",
    "class Drone():\n",
    "    \n",
    "    def __init__(self, charge_costs, state=\"start\", step=2, max_z=12, charge=100):\n",
    "        self.z = 0\n",
    "        self.state = state\n",
    "        self.step = step\n",
    "        self.max_z = max_z\n",
    "        self.charge = charge\n",
    "        self.charge_costs = charge_costs\n",
    "        self.path = []\n",
    "        self.scanned_pellets = []\n",
    "        \n",
    "    @add_to_path\n",
    "    def start(self, pellet_coordinates):\n",
    "        self.z = 0\n",
    "        self.state = \"start\"\n",
    "        self.scanned_pellets.append(pellet_coordinates)\n",
    "        \n",
    "    @add_to_path\n",
    "    def start(self):\n",
    "        self.z = 0\n",
    "        self.state = \"charging\"\n",
    "        \n",
    "    @add_to_path\n",
    "    def up(self):\n",
    "        self.z += self.step\n",
    "        self.state = \"ascending\"\n",
    "        \n",
    "    @add_to_path\n",
    "    def down(self):\n",
    "        self.z -= self.step\n",
    "        self.state = \"descending\"\n",
    "        \n",
    "    @add_to_path\n",
    "    def scan(self):\n",
    "        self.state = \"scanning\"\n",
    "        \n",
    "    @add_to_path\n",
    "    def wait(self):\n",
    "        self.state = \"awaiting\"\n",
    "        \n",
    "    def action(self):\n",
    "        if self.charge > 0:\n",
    "            if self.state == \"start\":\n",
    "                self.up()\n",
    "            elif self.state == \"ascending\":\n",
    "                if self.z < self.max_z:\n",
    "                    self.scan()\n",
    "                else:\n",
    "                    self.scan()\n",
    "                    self.down()\n",
    "            elif self.state == \"scanning\":\n",
    "                self.up()\n",
    "            elif self.state == \"descending\":\n",
    "                if self.z > 0:\n",
    "                    self.down()\n",
    "                else:\n",
    "                    self.wait()\n",
    "            self.charge -= self.charge_costs[self.state]\n",
    "        else:\n",
    "            while self.z > 0:\n",
    "                self.down()\n",
    "            self.z = 0\n",
    "            self.state = \"charging\""
   ]
  },
  {
   "cell_type": "code",
   "execution_count": 39,
   "metadata": {},
   "outputs": [],
   "source": [
    "test_costs = {\n",
    "    \"start\": 0,\n",
    "    \"scanning\": 1,\n",
    "    \"ascending\": 1,\n",
    "    \"descending\": 1,\n",
    "    \"awaiting\": 0,\n",
    "    \"charging\": -100\n",
    "}"
   ]
  },
  {
   "cell_type": "code",
   "execution_count": 36,
   "metadata": {},
   "outputs": [],
   "source": [
    "d = Drone(test_costs)"
   ]
  },
  {
   "cell_type": "code",
   "execution_count": 37,
   "metadata": {},
   "outputs": [
    {
     "name": "stdout",
     "output_type": "stream",
     "text": [
      "ascending 2\n",
      "scanning 2\n",
      "ascending 4\n",
      "scanning 4\n",
      "ascending 6\n",
      "scanning 6\n",
      "ascending 8\n",
      "scanning 8\n",
      "ascending 10\n",
      "scanning 10\n",
      "ascending 12\n",
      "descending 10\n",
      "descending 8\n",
      "descending 6\n",
      "descending 4\n",
      "descending 2\n",
      "descending 0\n",
      "awaiting 0\n"
     ]
    }
   ],
   "source": [
    "while d.state != \"awaiting\":\n",
    "    d.action()\n",
    "    print(d.state, d.z)"
   ]
  },
  {
   "cell_type": "markdown",
   "metadata": {},
   "source": [
    "## Mobile platform"
   ]
  },
  {
   "cell_type": "code",
   "execution_count": null,
   "metadata": {},
   "outputs": [],
   "source": [
    "class MobilePlatform(Drone):\n",
    "    \n",
    "    def __init__(self, charge_costs, drones, state=\"start\", step=1, start_z=(0,0), charge=100):\n",
    "        self.z = start_z\n",
    "        self.state = state\n",
    "        self.step = step\n",
    "        self.charge = charge\n",
    "        self.charge_costs = charge_costs\n",
    "        self.path = []\n",
    "        self.field_of_vision = []\n",
    "        self.drones = drones\n",
    "        \n",
    "    def launch_drone(self, drone_number, pellet_coordinates):\n",
    "        self.drones[drone_number].start(pellet_coordinates)\n",
    "        while self.drones[drone_number].state != \"awaiting\":\n",
    "            self.drones[drone_number].action()\n",
    "    "
   ]
  },
  {
   "cell_type": "code",
   "execution_count": 39,
   "metadata": {},
   "outputs": [],
   "source": [
    "test_costs = {\n",
    "    \"start\": 0,\n",
    "    \"moving\": 1,\n",
    "    \"awaiting\": 0,\n",
    "    \"charging\": -100,\n",
    "    \n",
    "}"
   ]
  }
 ],
 "metadata": {
  "kernelspec": {
   "display_name": "Python 3",
   "language": "python",
   "name": "python3"
  },
  "language_info": {
   "codemirror_mode": {
    "name": "ipython",
    "version": 3
   },
   "file_extension": ".py",
   "mimetype": "text/x-python",
   "name": "python",
   "nbconvert_exporter": "python",
   "pygments_lexer": "ipython3",
   "version": "3.7.5"
  }
 },
 "nbformat": 4,
 "nbformat_minor": 2
}
